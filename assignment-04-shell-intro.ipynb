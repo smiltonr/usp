{
 "cells": [
  {
   "cell_type": "markdown",
   "metadata": {
    "ein.tags": "worksheet-0",
    "slideshow": {
     "slide_type": "-"
    }
   },
   "source": [
    "# Exercise 1\n",
    "1.  Launch a terminal.\n",
    "2.  Use the appropriate command to determine your login shell.\n",
    "3.  Use the `/etc/passwd` file to verify the result of step 2.\n",
    "4.  Use the appropriate command to determine your current shell. Is it\n",
    "    the same as your login shell?\n",
    "5.  Create a subshell shell that is not the same shell as your\n",
    "    login shell. For example, if your login shell is Bash, create a\n",
    "    `ksh` or C shell.\n",
    "6.  Check the Current shell again. Does it match with your login shell?\n",
    "7.  Create another shell which is the same type as your login shell.\n",
    "8.  Check the current shell again. Does it match with previous one?\n",
    "9.  Exit from the subshell and move to your login shell.\n",
    "10. Check the current shell again. Is it the same as the login shell?\n",
    "11. Quit the terminal.\n",
    "\n"
   ]
  },
  {
   "cell_type": "markdown",
   "metadata": {
    "ein.tags": "worksheet-0",
    "slideshow": {
     "slide_type": "-"
    }
   },
   "source": [
    "# Exercise 2\n",
    "1.  Launch a terminal.\n",
    "2.  Use the `who` command and redirect the result to a file called\n",
    "    `file1`. Use the `more` command to see the contents of `file1`.\n",
    "3.  Use the `date` and `who` commands in sequence (in one line) so that\n",
    "    the output of `date` will display on the screen and the output of\n",
    "    `who` will be redirected to a file called `file2`. Use the `more`\n",
    "    command to check the contents of `file2`. It should be the same as\n",
    "    `file1` unless someone logged in or logged off between the\n",
    "    `who` commands.\n",
    "4.  Set vi to be your command—line editor.\n",
    "5.  Use your command-line editor to recall the line you typed in step 3.\n",
    "    Edit the line so that the output of both commands (`date` and `who`)\n",
    "    are redirected to a file called `file3`. Use the more command to\n",
    "    display the result.\n",
    "6.  Use the command-line editor to recall the line typed in step 3. Edit\n",
    "    the line so that the output of the first command (`date`) is\n",
    "    redirected to a file called `file4`, while the result of the `who`\n",
    "    command displays on the monitor without changing the relative\n",
    "    positions of the `date` and `who` commands. Use the more command to\n",
    "    verify the result.\n",
    "7.  Make a duplicate or `file3` and call it `file3.bak`\n",
    "8.  Use the command-line editor to recall the line created at step 5.\n",
    "    Edit the line so that the word \\`\\`date'' will be misspelled\n",
    "    as \\`\\`bate''. Execute the edited command and append the result to\n",
    "    `file3`. Use `more` to compare `file3` and `file3.bak`\n",
    "9.  Using command-line editing, recall the line created in step 8. Edit\n",
    "    it so that the errors also go to `file3` without replacing the\n",
    "    files contents. Check the contents of `file3` for verification.\n",
    "10. Using command-line editing, recall the line created in step 9. Edit\n",
    "    it so that the output goes to `file4` and errors go to `file5`.\n",
    "11. Quit the terminal.\n",
    "\n"
   ]
  },
  {
   "cell_type": "markdown",
   "metadata": {
    "ein.tags": "worksheet-0",
    "slideshow": {
     "slide_type": "-"
    }
   },
   "source": [
    "# Exercise 3\n",
    "1.  Launch a terminal.\n",
    "2.  Create a subshell.\n",
    "3.  Set your command-line editor to `vi`.\n",
    "4.  Create a long list of the current directory and pipe the output to\n",
    "    the `pr`.\n",
    "5.  Edit the line in step 4 so that the result goes to the `pr` and at\n",
    "    the same time is saved as a file called `file1` with no output on\n",
    "    the monitor (use `tee`, pipe, and redirection).\n",
    "6.  Edit the line in step 5 so that the result of `ls -l` command be\n",
    "    sent to two files `file2` and `file3`.\n",
    "7.  Set the `noclobber` option.\n",
    "8.  Repeat the command in step 5. Do you get any error message? If so,\n",
    "    write down the error message.\n",
    "9.  Edit the command line in step 8 to force clobbering of `file1`.\n",
    "10. Unset the noclobber.\n",
    "11. Use the `ls -l` command and try to send the result to two files,\n",
    "    `file3` and `file4`, using the pipe and the `cp` command. What\n",
    "    message do you get? Write it down. What are the contents `file3` and\n",
    "    `file4`. Why can't `cp` accept its input from a pipe?\n",
    "12. Repeat the step 11 but use the `tee` command to solve the problem.\n",
    "13. Quit the terminal.\n",
    "\n"
   ]
  },
  {
   "cell_type": "markdown",
   "metadata": {
    "ein.tags": "worksheet-0",
    "slideshow": {
     "slide_type": "-"
    }
   },
   "source": [
    "# Exercise 4\n",
    "1.  Launch a terminal.\n",
    "2.  Without using an editor, create a one-line file, called `file1`,\n",
    "    using the `echo` command (use output redirection). This is one of\n",
    "    the ways we can create a short file quickly.\n",
    "3.  Check the content of `file1` using `more` command.\n",
    "4.  Now, without using an editor or create two-line file `file2`, using\n",
    "    `echo` command. Use double quotes for the argument of the\n",
    "    `echo` command. Put the opening quote in the first line and the\n",
    "    closing quotes in the second line, but do not close it until the end\n",
    "    of the second line. In your own words, explain what you just did and\n",
    "    why it works.\n",
    "5.  Check the contents of `file2 using the =more` command.\n",
    "6.  Store \"UNIX vs. Others\" in a variable called `facts`.\n",
    "7.  Now use the following command:\n",
    "\n",
    "    ``` {.example}\n",
    "    echo \"This is a fact. $facts in our life.\n",
    "    ```\n",
    "\n",
    "    What is printed and why?\n",
    "8.  Now use the following command:\n",
    "\n",
    "    ``` {.example}\n",
    "    echo \"This is a fact.  '$facts' in our life\"   \n",
    "    ```\n",
    "\n",
    "    What is printed and why?\n",
    "9.  Now use the following command:\n",
    "\n",
    "    ``` {.example}\n",
    "    echo \"This is a fact \\$facts in our life\"   \n",
    "    ```\n",
    "\n",
    "    What would be printed and why?\n",
    "10. Try to use a command to print the following message (including\n",
    "    the quotes) using the value of the variable facts:\n",
    "\n",
    "    ``` {.example}\n",
    "    \"This is a fact \"UNIX vs. Others\" in our life\"\n",
    "    ```\n",
    "\n",
    "11. Quit the terminal.\n",
    "\n"
   ]
  },
  {
   "cell_type": "markdown",
   "metadata": {
    "ein.tags": "worksheet-0",
    "slideshow": {
     "slide_type": "-"
    }
   },
   "source": [
    "# Exercise 5\n",
    "1.  Launch a terminal.\n",
    "2.  Store the word \\~\"PARENT\"\\~ in a variable called `first`.\n",
    "3.  Print the value of the variable `first` (using `echo` command).\n",
    "4.  Create a subshell shell using the same type of shell as your\n",
    "    login shell.\n",
    "5.  Print the value of the variable `first` in this subshell. What was\n",
    "    printed? If \\~\"PARENT\"\\~ was not printed, explain why. Hint: What\n",
    "    did the parent export to the subshell when the subshell was created?\n",
    "6.  Store the word \\~\"SUBSHELL\"\\~ in a variable called `second`.\n",
    "7.  Print the value of the variable `second`.\n",
    "8.  Exit from the subshell shell and move to your login shell.\n",
    "9.  Print the value of `first`. What was printed? How do you explain\n",
    "    this result?\n",
    "10. Print the value of `second`. What was printed? How do you explain\n",
    "    this result?\n",
    "11. Quit the terminal.\n",
    "\n"
   ]
  },
  {
   "cell_type": "markdown",
   "metadata": {
    "ein.tags": "worksheet-0",
    "slideshow": {
     "slide_type": "-"
    }
   },
   "source": [
    "# Exercise 6\n",
    "\n",
    "1.  Launch a terminal.\n",
    "2.  Display the contents of the system startup file (the file name is\n",
    "    different in different shells). Try to change some entries in\n",
    "    this file.\n",
    "3.  Display the contents of your personal startup life (the file same is\n",
    "    different is different shells}.\n",
    "4.  Try to change some entries in this file.\n",
    "5.  Display the contents of system-wide shutdown files (if there\n",
    "    is one).\n",
    "6.  Display the contents of your personal shutdown files (if there\n",
    "    is one).\n",
    "7.  Quit the terminal.\n",
    "\n"
   ]
  }
 ],
 "metadata": {
  "kernelspec": {
   "display_name": "Bash",
   "name": "bash"
  },
  "name": "Untitled2.ipynb"
 },
 "nbformat": 4,
 "nbformat_minor": 2
}
