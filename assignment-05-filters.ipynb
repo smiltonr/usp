{
 "cells": [
  {
   "cell_type": "markdown",
   "metadata": {},
   "source": [
    "# Exercise 1\n",
    "\n",
    "1.  Launch a terminal.\n",
    "2.  Use the `cat` command to create a file containing the\n",
    "    following data. Name it `Ch6S1F1`. Use tabs to separate the fields.\n",
    "    ``` {.example}\n",
    "    1425    Juan    14.25\n",
    "    4321    George  21.11\n",
    "    6781    Anna    16.77\n",
    "    1451    Ben     21.77\n",
    "    2277    Tuan    18.77\n",
    "    ```\n",
    "3.  Use the `cat` command to display the file and check for accuracy.\n",
    "4.  Use the `vi` command to correct any errors in the file.\n",
    "5.  Use the `sort` command to sort the file Ch6SlFl according to the\n",
    "    first field. Call the sorted file `Ch6S1F2` (same name).\n",
    "6.  Display the file `Ch6S1F2`.\n",
    "7.  Use the `cut` and `paste` commands to swap fields 2 and 3 of\n",
    "    `Ch6S1F2`. Call it `Ch6S1F5`.\n",
    "8.  Display the file `Ch6S1F5`.\n",
    "9.  Quit the terminal.\n"
   ]
  },
  {
   "cell_type": "markdown",
   "metadata": {},
   "source": [
    "2.  Use the `cat` command to create a file containing the\n",
    "    following data. Name it `Ch6S1F1`. Use tabs to separate the fields.\n",
    "    ``` {.example}\n",
    "    1425    Juan    14.25\n",
    "    4321    George  21.11\n",
    "    6781    Anna    16.77\n",
    "    1451    Ben     21.77\n",
    "    2277    Tuan    18.77\n",
    "    ```"
   ]
  },
  {
   "cell_type": "code",
   "execution_count": 1,
   "metadata": {},
   "outputs": [
    {
     "name": "stdout",
     "output_type": "stream",
     "text": [
      "1425 Juan    14.25\n",
      "4321 George  21.11\n",
      "6781 Anna    16.77\n",
      "145  Ben     21.77\n",
      "2277 Juan    18.77\n"
     ]
    }
   ],
   "source": [
    "cat files/Ch6S1F1"
   ]
  },
  {
   "cell_type": "markdown",
   "metadata": {},
   "source": [
    "Use the `sort` command to sort the file Ch6SlFl according to the first field. Call the sorted file `Ch6S1F1` (same name)."
   ]
  },
  {
   "cell_type": "code",
   "execution_count": 2,
   "metadata": {},
   "outputs": [],
   "source": [
    "sort files/Ch6S1F1 > files/Ch6S1F2"
   ]
  },
  {
   "cell_type": "code",
   "execution_count": 3,
   "metadata": {},
   "outputs": [
    {
     "name": "stdout",
     "output_type": "stream",
     "text": [
      "1425 Juan    14.25\n",
      "145  Ben     21.77\n",
      "2277 Juan    18.77\n",
      "4321 George  21.11\n",
      "6781 Anna    16.77\n"
     ]
    }
   ],
   "source": [
    "cat files/Ch6S1F2"
   ]
  },
  {
   "cell_type": "markdown",
   "metadata": {},
   "source": [
    "Use the `cut` and `paste` commands to swap fields 2 and 3 of `Ch6S1F2`. Call it `Ch6S1F5`."
   ]
  },
  {
   "cell_type": "code",
   "execution_count": 4,
   "metadata": {},
   "outputs": [
    {
     "name": "stdout",
     "output_type": "stream",
     "text": [
      "14.25\tJuan\n",
      "21.77\tBen\n",
      "18.77\tJuan\n",
      "21.11\tGeorge\n",
      "16.77\tAnna\n"
     ]
    }
   ],
   "source": [
    "cat files/Ch6S1F2 | tr -s \" \" | cut -d\" \" -f2 > files/Ch6S1F3\n",
    "cat files/Ch6S1F2 | tr -s \" \" | cut -d\" \" -f3 > files/Ch6S1F4\n",
    "paste files/Ch6S1F4 files/Ch6S1F3 > files/Ch6S1F5\n",
    "cat files/Ch6S1F5"
   ]
  },
  {
   "cell_type": "markdown",
   "metadata": {},
   "source": [
    "# Exercise 2\n",
    "\n",
    "1.  Launch a terminal.\n",
    "2.  Use the `tail` command to create and save the following file. Call\n",
    "    it `Ch6S2F1`.\n",
    "    ``` {.example}\n",
    "    PASSES ALL DATA FROM INPUT TO OUTPUT\n",
    "    PASSES ONLY SPECIFIED COLUMNS\n",
    "    PASSES NUMBER OF SPECIFIED LINES AT BEGINNING\n",
    "    COMBINES COLUMNS\n",
    "    ARRANGES DATA IN SEQUENCE\n",
    "    PASSES NUMBER OF SPECIFIED LINES AT THE END OF DATA\n",
    "    TRANSLATES ONE OR MORE CHARACTERS\n",
    "    DELETES DUPLICATE LINES\n",
    "    COUNTS CHARACTERS} WORDS, OR’LINES\n",
    "    ABCDEFGHIJKLMNOPQRSTUVWXYZ\n",
    "    ```\n",
    "3.  Use the `cat` command to view its contents.\n",
    "4.  Use `vi` to correct any errors.\n",
    "5.  Encrypt this file using the following steps:\n",
    "    1.  Reverse the file line by line (the last line becOmes the first,\n",
    "        the line before the last line becomes the second, and so on).\n",
    "    2.  Call the file `Ch6S2F1Encr`.\n",
    "6.  Use the `cat` command to view its contents.\n",
    "7.  Display the file.\n",
    "8.  Decrypt the file (reverse the encryption steps). Call it `Ch6S2F1`\n",
    "    (original name).\n",
    "9.  Display the file `Ch6S1F1`.\n",
    "10. Quit the terminal."
   ]
  },
  {
   "cell_type": "markdown",
   "metadata": {},
   "source": [
    "2.  Use the `tail` command to create and save the following file. Call\n",
    "    it `Ch6S2F1`.\n",
    "    ``` {.example}\n",
    "    PASSES ALL DATA FROM INPUT TO OUTPUT\n",
    "    PASSES ONLY SPECIFIED COLUMNS\n",
    "    PASSES NUMBER OF SPECIFIED LINES AT BEGINNING\n",
    "    COMBINES COLUMNS\n",
    "    ARRANGES DATA IN SEQUENCE\n",
    "    PASSES NUMBER OF SPECIFIED LINES AT THE END OF DATA\n",
    "    TRANSLATES ONE OR MORE CHARACTERS\n",
    "    DELETES DUPLICATE LINES\n",
    "    COUNTS CHARACTERS} WORDS, OR’LINES\n",
    "    ABCDEFGHIJKLMNOPQRSTUVWXYZ\n",
    "    ```\n",
    "3.  Use the `cat` command to view its contents."
   ]
  },
  {
   "cell_type": "code",
   "execution_count": 1,
   "metadata": {},
   "outputs": [
    {
     "name": "stdout",
     "output_type": "stream",
     "text": [
      "PASSES ALL DATA FROM INPUT TO OUTPUT\n",
      "PASSES ONLY SPECIFIED COLUMNS\n",
      "PASSES NUMBER OF SPECIFIED LINES AT BEGINNING\n",
      "COMBINES COLUMNS\n",
      "ARRANGES DATA IN SEQUENCE\n",
      "PASSES NUMBER OF SPECIFIED LINES AT THE END OF DATA\n",
      "TRANSLATES ONE OR MORE CHARACTERS\n",
      "DELETES DUPLICATE LINES\n",
      "COUNTS CHARACTERS WORDS, OR LINES\n",
      "ABCDEFGHIJKLMNOPQRSTUVWXYZ\n"
     ]
    }
   ],
   "source": [
    "cat files/Ch6S2F1"
   ]
  },
  {
   "cell_type": "markdown",
   "metadata": {},
   "source": [
    "5.  Encrypt this file using the following steps:\n",
    "    1.  Reverse the file line by line (the last line becomes the first,\n",
    "        the line before the last line becomes the second, and so on).\n",
    "    2.  Call the file `Ch6S2F1Encr`.\n",
    "6.  Use the `cat` command to view its contents.\n",
    "7.  Display the file."
   ]
  },
  {
   "cell_type": "code",
   "execution_count": 2,
   "metadata": {},
   "outputs": [
    {
     "name": "stdout",
     "output_type": "stream",
     "text": [
      "ABCDEFGHIJKLMNOPQRSTUVWXYZ\n",
      "COUNTS CHARACTERS WORDS, OR LINES\n",
      "DELETES DUPLICATE LINES\n",
      "TRANSLATES ONE OR MORE CHARACTERS\n",
      "PASSES NUMBER OF SPECIFIED LINES AT THE END OF DATA\n",
      "ARRANGES DATA IN SEQUENCE\n",
      "COMBINES COLUMNS\n",
      "PASSES NUMBER OF SPECIFIED LINES AT BEGINNING\n",
      "PASSES ONLY SPECIFIED COLUMNS\n",
      "PASSES ALL DATA FROM INPUT TO OUTPUT\n"
     ]
    }
   ],
   "source": [
    "tac files/Ch6S2F1"
   ]
  },
  {
   "cell_type": "markdown",
   "metadata": {},
   "source": [
    "8.  Decrypt the file (reverse the encryption steps). Call it `Ch6S2F1`\n",
    "    (original name).\n",
    "9.  Display the file `Ch6S1F1`.\n",
    "10. Quit the terminal."
   ]
  },
  {
   "cell_type": "markdown",
   "metadata": {},
   "source": [
    "# Exercise 3\n",
    "\n",
    "1.  Launch a terminal.\n",
    "2.  Use the `cat` command to create and save the folloWing file. Call it\n",
    "    `Ch6S3F1`.\n",
    "    ``` {.example}\n",
    "    ALPHABETICAL FACTS.\n",
    "    THE FIRST THREE LETTERS ARE ABC.\n",
    "    THE MEDIAN LETTERS ARE MN.\n",
    "    THE LAST THREE LETTERS ARE XYZ.\n",
    "    THE FIRST WORD IN MY DICTIONARY IS AAL.\n",
    "    THE LAST WORD IN MY DICTIONARY IS ZYTHUM.\n",
    "    THE QUICK BROWN FOX JUMPED OVER THE LAZY DOG.\n",
    "    THE LAST LETTER MAY BE PRONOUNCED ZEE OR ZED.\n",
    "    THE FIRST GREEK LETTER IS ALPHA.\n",
    "    THE LAST GREEK LETTER IS OMEGA.\n",
    "    ```\n",
    "3.  Use the `cat` command to check the contents.\n",
    "4.  Use `vi` to correct any errors.\n",
    "5.  Display the file.\n",
    "6.  Using the `tr` command, encrypt this file by shifting each letter\n",
    "    five characters to the end of the character set. For example, A\n",
    "    becomes F, B becomes G, and soon. The end of the alphabet will\n",
    "    wrap around. For example, Y becomes D and Z becomes E. Spaces and\n",
    "    newlines would be preserved. This is called Caesarian encryption\n",
    "    because it was invented by Julius Caesar. Call the encrypted file\n",
    "    `Ch6S3F1Encr`.\n",
    "7.  Use the cat command to check the contents of the encrypted file.\n",
    "8.  Display the file.\n",
    "9.  Now use decryption (reverse strategy) to decrypt the file. Call the\n",
    "    new file `Ch6S3F1` (original name).\n",
    "10. Use the `cat` command to look at the contents of the file. Is it the\n",
    "    same as the original file?\n",
    "11. Display the file.\n",
    "12. Quit the terminal."
   ]
  },
  {
   "cell_type": "markdown",
   "metadata": {},
   "source": [
    "2.  Use the `cat` command to create and save the folloWing file. Call it\n",
    "    `Ch6S3F1`.\n",
    "    ``` {.example}\n",
    "    ALPHABETICAL FACTS.\n",
    "    THE FIRST THREE LETTERS ARE ABC.\n",
    "    THE MEDIAN LETTERS ARE MN.\n",
    "    THE LAST THREE LETTERS ARE XYZ.\n",
    "    THE FIRST WORD IN MY DICTIONARY IS AAL.\n",
    "    THE LAST WORD IN MY DICTIONARY IS ZYTHUM.\n",
    "    THE QUICK BROWN FOX JUMPED OVER THE LAZY DOG.\n",
    "    THE LAST LETTER MAY BE PRONOUNCED ZEE OR ZED.\n",
    "    THE FIRST GREEK LETTER IS ALPHA.\n",
    "    THE LAST GREEK LETTER IS OMEGA.\n",
    "    ```\n",
    "3.  Use the `cat` command to check the contents.\n",
    "4.  Use `vi` to correct any errors.\n",
    "5.  Display the file."
   ]
  },
  {
   "cell_type": "code",
   "execution_count": 3,
   "metadata": {},
   "outputs": [
    {
     "name": "stdout",
     "output_type": "stream",
     "text": [
      "ALPHABETICAL FACTS.\n",
      "THE FIRST THREE LETTERS ARE ABC.\n",
      "THE MEDIAN LETTERS ARE MN.\n",
      "THE LAST THREE LETTERS ARE XYZ.\n",
      "THE FIRST WORD IN MY DICTIONARY IS AAL.\n",
      "THE LAST WORD IN MY DICTIONARY IS ZYTHUM.\n",
      "THE QUICK BROWN FOX JUMPED OVER THE LAZY DOG.\n",
      "THE LAST LETTER MAY BE PRONOUNCED ZEE OR ZED.\n",
      "THE FIRST GREEK LETTER IS ALPHA.\n",
      "THE LAST GREEK LETTER IS OMEGA."
     ]
    }
   ],
   "source": [
    "cat files/Ch6S3F1"
   ]
  },
  {
   "cell_type": "markdown",
   "metadata": {},
   "source": [
    "6.  Using the `tr` command, encrypt this file by shifting each letter\n",
    "    five characters to the end of the character set. For example, A\n",
    "    becomes F, B becomes G, and soon. The end of the alphabet will\n",
    "    wrap around. For example, Y becomes D and Z becomes E. Spaces and\n",
    "    newlines would be preserved. This is called Caesarian encryption\n",
    "    because it was invented by Julius Caesar. Call the encrypted file\n",
    "    `Ch6S3F2`.\n",
    "7.  Use the cat command to check the contents of the encrypted file.\n",
    "8.  Display the file."
   ]
  },
  {
   "cell_type": "code",
   "execution_count": 4,
   "metadata": {},
   "outputs": [
    {
     "name": "stdout",
     "output_type": "stream",
     "text": [
      "FQUMFGJYNHFQ KFHYX.\n",
      "YMJ KNWXY YMWJJ QJYYJWX FWJ FGH.\n",
      "YMJ RJINFS QJYYJWX FWJ RS.\n",
      "YMJ QFXY YMWJJ QJYYJWX FWJ CDE.\n",
      "YMJ KNWXY BTWI NS RD INHYNTSFWD NX FFQ.\n",
      "YMJ QFXY BTWI NS RD INHYNTSFWD NX EDYMZR.\n",
      "YMJ VZNHP GWTBS KTC OZRUJI TAJW YMJ QFED ITL.\n",
      "YMJ QFXY QJYYJW RFD GJ UWTSTZSHJI EJJ TW EJI.\n",
      "YMJ KNWXY LWJJP QJYYJW NX FQUMF.\n",
      "YMJ QFXY LWJJP QJYYJW NX TRJLF."
     ]
    }
   ],
   "source": [
    "cat files/Ch6S3F1 | tr [A-Z] [F-ZA-E] > files/Ch6S3F2\n",
    "cat files/Ch6S3F2"
   ]
  },
  {
   "cell_type": "markdown",
   "metadata": {},
   "source": [
    "9.  Now use decryption (reverse strategy) to decrypt the file. Call the\n",
    "    new file `Ch6S3F3` (original name).\n",
    "10. Use the `cat` command to look at the contents of the file. Is it the\n",
    "    same as the original file?\n",
    "11. Display the file.\n",
    "12. Quit the terminal."
   ]
  },
  {
   "cell_type": "code",
   "execution_count": 5,
   "metadata": {},
   "outputs": [
    {
     "name": "stdout",
     "output_type": "stream",
     "text": [
      "ALPHABETICAL FACTS.\n",
      "THE FIRST THREE LETTERS ARE ABC.\n",
      "THE MEDIAN LETTERS ARE MN.\n",
      "THE LAST THREE LETTERS ARE XYZ.\n",
      "THE FIRST WORD IN MY DICTIONARY IS AAL.\n",
      "THE LAST WORD IN MY DICTIONARY IS ZYTHUM.\n",
      "THE QUICK BROWN FOX JUMPED OVER THE LAZY DOG.\n",
      "THE LAST LETTER MAY BE PRONOUNCED ZEE OR ZED.\n",
      "THE FIRST GREEK LETTER IS ALPHA.\n",
      "THE LAST GREEK LETTER IS OMEGA."
     ]
    }
   ],
   "source": [
    "cat files/Ch6S3F2 | tr [F-ZA-E] [A-Z] > files/Ch6S3F3\n",
    "cat files/Ch6S3F3"
   ]
  }
 ],
 "metadata": {
  "kernelspec": {
   "display_name": "Bash",
   "language": "bash",
   "name": "bash"
  },
  "language_info": {
   "codemirror_mode": "shell",
   "file_extension": ".sh",
   "mimetype": "text/x-sh",
   "name": "bash"
  }
 },
 "nbformat": 4,
 "nbformat_minor": 2
}
