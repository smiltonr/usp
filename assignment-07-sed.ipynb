{
 "cells": [
  {
   "cell_type": "markdown",
   "metadata": {
    "ein.tags": "worksheet-0",
    "slideshow": {
     "slide_type": "-"
    }
   },
   "source": [
    "# Exercise 1\n",
    "1.  Launch a terminal.\n",
    "2.  Create and save the following file. Call it `a7-e1-f1`. Note that\n",
    "    the fields are separated by one or more spaces (randomly). The first\n",
    "    field is the first name, the second field is the last name, and the\n",
    "    third field is the age.\n",
    "\n",
    "    ``` {.example}\n",
    "    John Adams 55\n",
    "    George Bull 77\n",
    "    Anne Blue 99\n",
    "    Janet Blue 67\n",
    "    Ben Benjamin 78\n",
    "    Ted White 32\n",
    "    ```\n",
    "\n",
    "3.  Use a one-line sed command to reorganize the file using the\n",
    "    comma/tab pattern shown in the following file. Note that the last\n",
    "    name is before the first name, and there is only one space between\n",
    "    the names and a space before the numbers. Use the same name for the\n",
    "    new file.\n",
    "\n",
    "    ``` {.example}\n",
    "    Adams, John 55\n",
    "    Bull, George 77\n",
    "    Blue, Anne 99\n",
    "    Blue, Janet 67\n",
    "    Benjamin, Ben 78\n",
    "    White, Ted 32\n",
    "    ```\n",
    "\n",
    "4.  Sort the file first according to the last name and then according to\n",
    "    the age. Watch out for the comma after the last name. Use the same\n",
    "    name for the new file.\n",
    "5.  Quit the terminal.\n",
    "\n"
   ]
  },
  {
   "cell_type": "markdown",
   "metadata": {
    "ein.tags": "worksheet-0",
    "slideshow": {
     "slide_type": "-"
    }
   },
   "source": [
    "# Exercise 2\n",
    "1.  Launch a terminal.\n",
    "2.  Create and save the following file. Call it `a7-e2-f1`.\n",
    "\n",
    "    ``` {.example}\n",
    "    UNIX is as UNIX does.   \n",
    "    And D03 is as DOS does.\n",
    "    But UNIX is not as DOS does.\n",
    "    Nor is DOS as UNIX does.\n",
    "    So, if UNIX was as DOS does,\n",
    "    Would UNIX be DOS\n",
    "    Or would DOS be UNIX?\n",
    "    Or to put the question another way:\n",
    "    Is an operating system by any other name\n",
    "    As beautiful as a UNIX operating system?\n",
    "    ```\n",
    "\n",
    "3.  Use a sed script (`a7-e2-f2.sed`) and a sed command to put a set of\n",
    "    five asterisks at the beginning and end of each line that contains\n",
    "    the pattern UNIX. Call the new file `a7-e2-f3`.\n",
    "4.  Quit the terminal.\n",
    "\n"
   ]
  },
  {
   "cell_type": "markdown",
   "metadata": {
    "ein.tags": "worksheet-0",
    "slideshow": {
     "slide_type": "-"
    }
   },
   "source": [
    "# Exercise 3\n",
    "1.  Launch a terminal.\n",
    "2.  Create a file of fifty lines (each line can have only a word\n",
    "    or two). Call the file `a7-e3-f1`.\n",
    "3.  Use the cat command to insert a line number at the beginning of each\n",
    "    line in a file. This will help to check the result of the\n",
    "    next steps.\n",
    "4.  Write a sed script (`a7-e3-f2.sed`) and a sed command to split the\n",
    "    file into four files. The first file, called `a7-e3-f3`, contains\n",
    "    lines 10 to 15. The second file, called `a7-e3-f4`, contains lines\n",
    "    20 to 30. The third file, called `a7-e3-f5`, contains lines 31\n",
    "    to 37. The fourth file, called `a7-e3-f6`, contains the rest of\n",
    "    the file.\n",
    "5.  Print all of the files created in this session and verify\n",
    "    the output.\n",
    "6.  Quit the terminal.\n",
    "\n"
   ]
  },
  {
   "cell_type": "markdown",
   "metadata": {
    "ein.tags": "worksheet-0",
    "slideshow": {
     "slide_type": "-"
    }
   },
   "source": [
    "# Exercise 4\n",
    "1.  Launch a terminal.\n",
    "2.  Create the followingfile and call it `a7-e4-f1`. Each line in the\n",
    "    file is an absolute pathname of a file.\n",
    "\n",
    "    ``` {.example}\n",
    "    bin/date\n",
    "    bin/programs/cal\n",
    "    usr/bin/date\n",
    "    usr/report/file1\n",
    "    usr/report/1etters/lett1\n",
    "    /spool/mails\n",
    "    ```\n",
    "\n",
    "3.  Write a sed script (`a7-e4-f2`) and a sed command to extract the\n",
    "    lowest level directory and the name of the file from the path\n",
    "    (separated by spaces) and store it in a file called `a7-e4-f3`. The\n",
    "    file should look like the following (directory then file}:\n",
    "\n",
    "    ``` {.example}\n",
    "    /bin date\n",
    "    /bin/programs cal\n",
    "    /usr/bin date\n",
    "    /usr/report file1\n",
    "    /usr/report/letters lett1\n",
    "    /spool mails\n",
    "    ```\n",
    "\n",
    "4.  Quit the terminal.\n",
    "\n"
   ]
  },
  {
   "cell_type": "markdown",
   "metadata": {
    "ein.tags": "worksheet-0",
    "slideshow": {
     "slide_type": "-"
    }
   },
   "source": [
    "# Exercise 5\n",
    "1.  Launch a terminal.\n",
    "2.  Create the following file and call it `a7-e5-f1`. The file is a C\n",
    "    program that multiplies two numbers. It contains some comments,\n",
    "    which begin with the two- character token `/*` and end with the\n",
    "    two-character token `*/`. In this program, comments can be on one\n",
    "    line or can span more than a line.\n",
    "\n",
    "    ``` {.example}\n",
    "    /* The greeting program. This program demonstrates */\n",
    "    /* some of the components of a simple C program. */\n",
    "    /* Written by: your name here ’ */\n",
    "    /* Date: date program written */\n",
    "\n",
    "    #include <stdio.h>\n",
    "    int main (void)\n",
    "    {\n",
    "    /* Statements */\n",
    "\n",
    "    printf(\"Hello World!\\n\");\n",
    "\n",
    "    return 0;\n",
    "    } /* main */\n",
    "    ```\n",
    "\n",
    "3.  Write a sed script `a7-e5-f2.sed` and a sed command to delete the\n",
    "    comments from the file. Call the new file `a7-e5-f3`. You will need\n",
    "    to pay special attention to the slashes and asterisks (they need to\n",
    "    be quoted).\n",
    "4.  Quit the terminal.\n",
    "\n"
   ]
  },
  {
   "cell_type": "markdown",
   "metadata": {
    "ein.tags": "worksheet-0",
    "slideshow": {
     "slide_type": "-"
    }
   },
   "source": [
    "# Exercise 6\n",
    "\n",
    "1.  Launch a terminal.\n",
    "2.  Create the following file and call it `a7-e6-f1`. The file is a C\n",
    "    program that multiplies two numbers. It contains some comments which\n",
    "    begin with the two-character token `/*` and end with the\n",
    "    two-character token `*/`. In this program, comments can be on one\n",
    "    line or can span more than a line\n",
    "\n",
    "    ``` {.example}\n",
    "    /* This program reads two integer numbers from the\n",
    "        keyboard and prints their product.\n",
    "        Written by:\n",
    "        Date:\n",
    "\n",
    "    */\n",
    "\n",
    "    /* Statements */\n",
    "\n",
    "    scanf (\"%d\", &number1);\n",
    "    scanf (\"%d\", &number2);\n",
    "    result = number1 * number2;\n",
    "    printf (\"%d\", result);\n",
    "    return 0;\n",
    "    } /* main */\n",
    "    ```\n",
    "\n",
    "3.  Write a sed script `a7-e6-f2.sed` and a sed command to delete the\n",
    "    comments from the file. Call the new file `a7-e6-f3`.\n",
    "4.  Quit the terminal."
   ]
  }
 ],
 "metadata": {
  "kernelspec": {
   "display_name": "Bash",
   "name": "bash"
  },
  "name": "assignment-07-sed.ipynb"
 },
 "nbformat": 4,
 "nbformat_minor": 2
}
