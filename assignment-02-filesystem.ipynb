{
 "cells": [
  {
   "cell_type": "code",
   "execution_count": null,
   "metadata": {
    "autoscroll": false,
    "collapsed": false,
    "ein.hycell": false,
    "ein.tags": "worksheet-0",
    "slideshow": {
     "slide_type": "-"
    }
   },
   "outputs": [],
   "source": [
    "# Exercise 1\n",
    "1.  Launch a terminal.\n",
    "2.  Create three directories named `letters, reports` and `assignment`\n",
    "    under your home directory.\n",
    "3.  Move to directory `letters`.\n",
    "4.  Create two directories named `friendly` and `formal` under the\n",
    "    `letters` directory.\n",
    "5.  Move to directory `reports` using only one command (directly from\n",
    "    `letters`).\n",
    "6.  Create three directories called `personal`, `business`, and `school`\n",
    "    under the directory `reports` (use only one command).\n",
    "7.  Create a directory called `UNIX` under the `assignments` directory.\n",
    "    The directories in this step should be created without moving from\n",
    "    the `reports` directory.\n",
    "8.  Move to your home directory.\n",
    "9.  Recursively list all of the directories you created and draw the\n",
    "    directory structure on paper.\n",
    "10. Quit the terminal.\n",
    "\n"
   ]
  },
  {
   "cell_type": "code",
   "execution_count": null,
   "metadata": {
    "autoscroll": false,
    "collapsed": false,
    "ein.hycell": false,
    "ein.tags": "worksheet-0",
    "slideshow": {
     "slide_type": "-"
    }
   },
   "outputs": [],
   "source": [
    "# Exercise 2\n",
    "\n",
    "1.  Launch a terminal.\n",
    "2.  Recursivcly list the directories under your home directory (the ones\n",
    "    created in Exercise 1).\n",
    "3.  Move to the `UNIX` directory.\n",
    "4.  Check your current directory.\n",
    "5.  Using `vi`, create a file named `hw4` that contains some text.\n",
    "6.  Save the file (it should be saved under the `UNIX` directory).\n",
    "7.  Move to your home directory\n",
    "8.  Print the content of `hw4` from your home directory.\n",
    "9.  Make a copy of `hw4` and call it `hw4.bk`. Store it under the same\n",
    "    directory where `hw4` is stored.\n",
    "10. From your home directory, check to see if both files (`hw4` and\n",
    "    `hw4.bk`) exist.\n",
    "11. Move to the `UNIX` directory.\n",
    "12. Check your current working directory.\n",
    "13. Make a hard link to the `hw4` file. The link should be under the\n",
    "    `UNIX` subdirectory and be called `hw4HL`.\n",
    "14. Make a soft link to `hw4` called `hw4SL` and store it under the\n",
    "    `UNIX` directory.\n",
    "15. Check the inode of `hw4, hw4.bk, hw4HL`, and `hw4SL`. Are all the\n",
    "    same? Are all different? Explain how you determined the answer.\n",
    "16. Use `ls` command to find the file types of `hw4, hw4.bk, hw4HL` and\n",
    "    `hw4SL`. Explain your observation.\n",
    "17. Quit the terminal.\n",
    "\n"
   ]
  },
  {
   "cell_type": "code",
   "execution_count": null,
   "metadata": {
    "autoscroll": false,
    "collapsed": false,
    "ein.hycell": false,
    "ein.tags": "worksheet-0",
    "slideshow": {
     "slide_type": "-"
    }
   },
   "outputs": [],
   "source": [
    "# Exercise 3\n",
    "1.  Launch a terminal.\n",
    "2.  Create a backup directory in your home directory called `backups`.\n",
    "3.  Use the `find` command to find the pathnames of all of the files\n",
    "    (`hw4, hw4.bk, hw4HL, hw4SL`) that you created in Exercise 2 (read\n",
    "    from the Internet about how to use `find`). All of them should be\n",
    "    found using only one find command. The command must also copy all of\n",
    "    them to the `backups` directory.\n",
    "\n",
    "        find ~ -name hw4* -exec cp {} backups\\;\n",
    "\n",
    "4.  Check the number of links and inode number of (`hw4, hw4.bk, hw4HL,\n",
    "     hw4SL`). Make note of the results.\n",
    "5.  Delete the original `hw4` file without moving from your\n",
    "    home directory.\n",
    "6.  Check the existence of `hw4, hw4.bk, hw4HL, hw4SL`.\n",
    "7.  Check the contents of `hw4, hw4.bk, hw4HL, hw4SL`.\n",
    "8.  Restore `hw4` by making a copy of `hw4.bk`.\n",
    "9.  You may have noticed that your soft link (`hw4SL`) contains garbage.\n",
    "    Delete this file.\n",
    "10. Make a soft link to `hw4` and save it as `hw4SL` under the same\n",
    "    directory as it was.\n",
    "11. List recursively all of your files and directories to confirm\n",
    "    all operations.\n",
    "12. Draw the directory structure of your home directory.\n",
    "13. Quit the terminal.\n",
    "\n"
   ]
  },
  {
   "cell_type": "code",
   "execution_count": null,
   "metadata": {
    "autoscroll": false,
    "collapsed": false,
    "ein.hycell": false,
    "ein.tags": "worksheet-0",
    "slideshow": {
     "slide_type": "-"
    }
   },
   "outputs": [],
   "source": [
    "# Exercise 4\n",
    "\n",
    "1.  Launch a terminal.\n",
    "2.  Use wildcards to display all of the files you have created under the\n",
    "    `HWs` without moving from your home directory.\n",
    "3.  Rename `hw4.bk` to `hw4.bak`\n",
    "4.  Create a short friendly letter, called `friend.1` using `vi` and\n",
    "    store it under the `friendly` directory.\n",
    "5.  Create a short formal letter, called `formal.1` using `vi` and store\n",
    "    it under the formal directory. Give a subject to `formal.1` letter.\n",
    "6.  Copy the file `formal.1` and call the new copy `formal.2`\n",
    "7.  Change only the subject of `formal.2` using `vi` and save it.\n",
    "8.  Using wildcards, print the contents of `formal.1` and `formal.2`\n",
    "9.  Make a directory called `business` under your home directory.\n",
    "10. Move the formal directory (with all of its contents) under the\n",
    "    `business` directory.\n",
    "11. Make a recursive list of your directory structure.\n",
    "12. Draw the new directory structure on paper.\n",
    "13. Quit the terminal.\n",
    "\n"
   ]
  }
 ],
 "metadata": {
  "kernelspec": {
   "display_name": "Bash",
   "name": "bash"
  },
  "name": "Untitled.ipynb"
 },
 "nbformat": 4,
 "nbformat_minor": 2
}
