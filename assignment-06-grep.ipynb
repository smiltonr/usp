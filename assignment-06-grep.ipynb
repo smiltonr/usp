{
 "cells": [
  {
   "cell_type": "markdown",
   "metadata": {
    "ein.tags": "worksheet-0",
    "slideshow": {
     "slide_type": "-"
    }
   },
   "source": [
    "# Exercise 1\n",
    "1.  Launch a terminal.\n",
    "2.  Use a command to create a file containing the following data. Call\n",
    "    it `a6-e1-f1`. Use tabs to separate the fields Do not type\n",
    "    the headings.\n",
    "\n",
    "    ``` {.example}\n",
    "    ID      Name    Hours Worked Hourly Pay\n",
    "    1425    Juan    18           14.25\n",
    "    4321    George  22           21.11\n",
    "    6781    Anna    44           16.77\n",
    "    1451    Ben     36           21.77\n",
    "    2277    Tuan    16           18.77\n",
    "    ```\n",
    "\n",
    "3.  Use a one-line command to display the hourly pay of Anna (only the\n",
    "    last field).\n",
    "4.  Use a one—line command to find the name of the employee with\n",
    "    ID 1451.\n",
    "5.  Use a one-line command to find the names of employees who worked\n",
    "    more than 20 hours. Hint: You may first want to extract the second\n",
    "    and third fields before applying one of the grep commands.\n",
    "6.  Use a one-line command to find the id and hours worked for employees\n",
    "    who earn more than \\$20 per hour.\n",
    "7.  Use a one-line command to find the id, name, and hourly pay fer\n",
    "    employees who worked fewer than 10 hours\n",
    "8.  Quit the terminal.\n",
    "\n"
   ]
  },
  {
   "cell_type": "markdown",
   "metadata": {
    "ein.tags": "worksheet-0",
    "slideshow": {
     "slide_type": "-"
    }
   },
   "source": [
    "# Exercise 2\n",
    "1.  Launch a terminal.\n",
    "2.  Create the following file. Call it `a6-e2-f1`.\n",
    "```\n",
    "```Tell me not, in mournful numbers, Life is but an empty dream! For the\n",
    "soul is dead that slumbers, And things are not what they seem.\n",
    "Life is real! Life is earnest! And the grave is not its goal; Dust thou\n",
    "art, to dust returnest, Was not spoken of the soul.\n",
    "\n",
    "Not enjoyment, and not sorrow, Is our destined end or way; But to act,\n",
    "that each to-morrow Find us farther than to-day.\n",
    "\n",
    "Art is long, and Time is fleeting, And our hearts, though stout and\n",
    "brave, Still, like muffled drums, are beating Funeral marches to the\n",
    "grave.\n",
    "\n",
    "In the world's broad field of battle, In the bivouac of Life, Be not\n",
    "like dumb, driven cattle! Be a hero in the strife!\n",
    "\n",
    "Trust no Future, howe'er pleasant! Let the dead Past bury its dead! Act,\n",
    "act in the living Present! Heart within, and God o'erhead!\n",
    "\n",
    "Lives of great men all remind us We can make our lives sublime, And,\n",
    "departing, leave behind us Footprints on the sands of time;\n",
    "\n",
    "Footprints, that perhaps another, Sailing o'er life's solemn main, A\n",
    "forlorn and shipwrecked brother, Seeing, shall take heart again.\n",
    "\n",
    "Let us, then, be up and doing, With a heart for any fate;\n",
    "Still achieving, still pursuing, Learn to labor and to wait.\n",
    "`````````\n",
    "1.  Use a one-line command to copy file `a6-e2-f1` without the blank\n",
    "    lines (copy without nonblank lines). Call the new file `a6-e2-f2`.\n",
    "2.  Use appropriate commands to create two new files out of `a6-e2-f2`.\n",
    "    The first file, called `a6-e2-f3`, contains only the lines that\n",
    "    are indented. The second file, called `a6-e2-f4`, contains the lines\n",
    "    that are not indented.\n",
    "3.  Use a one-line command to create a new file out of `a6-e3-f3`. This\n",
    "    file, which is called `a6-e2-f5`, contains the lines that are\n",
    "    centered (equal leading and trailing spaces in each line).\n",
    "4.  Quit the terminal.\n",
    "\n"
   ]
  },
  {
   "cell_type": "markdown",
   "metadata": {
    "ein.tags": "worksheet-0",
    "slideshow": {
     "slide_type": "-"
    }
   },
   "source": [
    "# Exercise 3\n",
    "1.  Log into the system.\n",
    "2.  Create and save the following file. Do not type the headings. Call\n",
    "    it `a6-e3-f1`\n",
    "\n",
    "    ``` {.example}\n",
    "    Department Course  Session Enrollment\n",
    "    CIS        15      1       45\n",
    "    CIS        54      1       20\n",
    "    BUS        34      2       20\n",
    "    ENG        11      2       89\n",
    "    CIS        45      1       38\n",
    "    MTH        35      1       56\n",
    "    MTH        35      2       41\n",
    "    PE         17      2       25\n",
    "    CIS        54      2       67\n",
    "    ```\n",
    "\n",
    "3.  Use a command to create a file of courses that have only\n",
    "    one session. Call the file `a6-e3-f2`.\n",
    "4.  Use a command to create a file 0f courses offered in the\n",
    "    CIS department. Call the file `a6-e3-f3`.\n",
    "5.  Use a command to create a file of courses that have fewer than\n",
    "    25 students. Call the file `a6-e3-f4`.\n",
    "6.  Use a command to create a file of Courses that have between 25 and\n",
    "    30 students. Call the file `a6-e3-f5`.\n",
    "7.  Quit the terminal.\n",
    "\n"
   ]
  },
  {
   "cell_type": "markdown",
   "metadata": {
    "ein.tags": "worksheet-0",
    "slideshow": {
     "slide_type": "-"
    }
   },
   "source": [
    "# Exercise 4\n",
    "1.  Log into the system.\n",
    "2.  Create and save the following file. Call it `a6-e4-f1`.\n",
    "\n",
    "    ``` {.example}\n",
    "    Great fleas have little fleas\n",
    "       upon their backs to bite 'em,\n",
    "    And little fleas have lesser fleas,\n",
    "       and so ad infinitum.\n",
    "    And the great fleas themselves, in turn,\n",
    "       have greater fleas to go on;\n",
    "    While these again have greater still,\n",
    "       and greater still, and so on.\n",
    "    ```\n",
    "\n",
    "3.  Use appropriate commands to create two files out of this file. The\n",
    "    first one, `a6-e4-f2`, contains lines with no duplicated words. The\n",
    "    second one, `a6-e4-f3`, has triplicated words.\n",
    "4.  Quit the terminal.\n",
    "\n"
   ]
  },
  {
   "cell_type": "markdown",
   "metadata": {
    "ein.tags": "worksheet-0",
    "slideshow": {
     "slide_type": "-"
    }
   },
   "source": [
    "# Exercise 5\n",
    "\n",
    "1.  Launch a terminal.\n",
    "2.  Create and save the following file. Call it `a6-e5-f1`.\n",
    "\n",
    "    ``` {.example}\n",
    "    * Section\n",
    "    A section heading starts with *.\n",
    "    ** Subsection\n",
    "    A subsection heading starts with **. \n",
    "    We *emphasize* a phrase by delimiting it *.\n",
    "    *** Subsubsection\n",
    "    A subsubsection starts with ***.\n",
    "    *It is a great organization, indeed!*\n",
    "    ```\n",
    "\n",
    "3.  Write a command that finds the lines that start with one and only\n",
    "    one asterisk. The line may contain more asterisks, but it must start\n",
    "    with one asterisk followed by a nonasterisk character.\n",
    "4.  Write a command that finds the lines that contain two asterisks\n",
    "    separated by another single character.\n",
    "5.  Write a command that finds lines with six or fewer asterisks.\n",
    "6.  Write a command that has an equal number of asterisks at the\n",
    "    beginning and the end.\n",
    "7.  Quit the terminal."
   ]
  }
 ],
 "metadata": {
  "kernelspec": {
   "display_name": "Bash",
   "name": "bash"
  },
  "name": "assignment-06-grep.ipynb"
 },
 "nbformat": 4,
 "nbformat_minor": 2
}
