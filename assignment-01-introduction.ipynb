{
 "cells": [
  {
   "cell_type": "markdown",
   "metadata": {
    "ein.tags": "worksheet-0",
    "slideshow": {
     "slide_type": "-"
    }
   },
   "source": [
    "# Simple commands\n",
    "1. Log into your system. What are the user id (username) and password?\n",
    "2. Launch a terminal. Identify the prompt. What is it?\n",
    "3. Launch a terminal, maximize the window. Define a profile with the\n",
    "color built-in scheme \\`\\`Black on light yellow''. Set your new\n",
    "profile as the default profile.\n",
    "4. Try these commands:"
   ]
  },
  {
   "cell_type": "markdown",
   "metadata": {
    "ein.tags": "worksheet-0",
    "slideshow": {
     "slide_type": "-"
    }
   },
   "source": [
    "## `echo`\n",
    "- `echo string`\n",
    "- `echo *`\n",
    "- `echo`"
   ]
  },
  {
   "cell_type": "code",
   "execution_count": null,
   "metadata": {
    "autoscroll": false,
    "collapsed": false,
    "ein.hycell": false,
    "ein.tags": "worksheet-0",
    "slideshow": {
     "slide_type": "-"
    }
   },
   "outputs": [],
   "source": [
    "echo \"Hello, bash!\""
   ]
  },
  {
   "cell_type": "markdown",
   "metadata": {
    "ein.tags": "worksheet-0",
    "slideshow": {
     "slide_type": "-"
    }
   },
   "source": [
    "## `date`\n",
    "-   Print date in dd-mm-yyyy format. Refer to the `man` page for\n",
    "    `date` to find out the option for this format.\n",
    "    ``` {.example}\n",
    "    man date\n",
    "    ```\n",
    "-   Print time in hh-mm-ss format, hh is 0-24 hours.\n",
    "\n"
   ]
  },
  {
   "cell_type": "markdown",
   "metadata": {
    "ein.tags": "worksheet-0",
    "slideshow": {
     "slide_type": "-"
    }
   },
   "source": [
    "## `cal`\n",
    "-   Print the calendar for the current month.\n",
    "-   Print the calendar for year 2020.\n",
    "-   Print the calendar for July 2020."
   ]
  },
  {
   "cell_type": "markdown",
   "metadata": {
    "ein.tags": "worksheet-0",
    "slideshow": {
     "slide_type": "-"
    }
   },
   "source": [
    "## `who`, `whoami`"
   ]
  },
  {
   "cell_type": "markdown",
   "metadata": {
    "ein.tags": "worksheet-0",
    "slideshow": {
     "slide_type": "-"
    }
   },
   "source": [
    "## `uname`\n",
    "   - options `-a`, `-s`, `-r`, `-sr`"
   ]
  },
  {
   "cell_type": "markdown",
   "metadata": {
    "ein.tags": "worksheet-0",
    "slideshow": {
     "slide_type": "-"
    }
   },
   "source": [
    "## `df -h`\n",
    "-   How many partitions does your hard disk have? What is the\n",
    "    total size of the disk?"
   ]
  },
  {
   "cell_type": "markdown",
   "metadata": {
    "ein.tags": "worksheet-0",
    "slideshow": {
     "slide_type": "-"
    }
   },
   "source": [
    "## `history`"
   ]
  },
  {
   "cell_type": "markdown",
   "metadata": {
    "ein.tags": "worksheet-0",
    "slideshow": {
     "slide_type": "-"
    }
   },
   "source": [
    "## `clear`\n"
   ]
  },
  {
   "cell_type": "markdown",
   "metadata": {
    "ein.tags": "worksheet-0",
    "slideshow": {
     "slide_type": "-"
    }
   },
   "source": [
    "# Files\n",
    "## `cat`\n",
    "-   Create a file `poem.txt` with\n",
    "    ``` {.example}\n",
    "    cat > poem.txt\n",
    "    ```\n",
    "    and typing the lines on the `stdin` (standard input).\n",
    "-   Print (display) the contents of `poem.txt` on `stdout`\n",
    "    (standard output)\n",
    "\n"
   ]
  },
  {
   "cell_type": "markdown",
   "metadata": {
    "ein.tags": "worksheet-0",
    "slideshow": {
     "slide_type": "-"
    }
   },
   "source": [
    "##  `touch`\n",
    "-   `touch poem` to update the time stamp of `poem.txt`\n",
    "-   Create a new empty file with `touch newpoem.txt`. Check the size\n",
    "    of `newpoem.txt`.\n",
    "-   Create `another-poem.txt`."
   ]
  },
  {
   "cell_type": "markdown",
   "metadata": {
    "ein.tags": "worksheet-0",
    "slideshow": {
     "slide_type": "-"
    }
   },
   "source": [
    "## `ls`\n",
    "-   List the contents of your home directory.\n",
    "-   List the contents of your home directory.\n",
    "    -   long format\n",
    "    -   modified time order\n",
    "    -   reverse modified time order\n",
    "\n"
   ]
  },
  {
   "cell_type": "markdown",
   "metadata": {
    "ein.tags": "worksheet-0",
    "slideshow": {
     "slide_type": "-"
    }
   },
   "source": [
    "# Filesystem\n",
    "## ``pwd``\n",
    "   -   What is your home directory?\n"
   ]
  },
  {
   "cell_type": "markdown",
   "metadata": {
    "ein.tags": "worksheet-0",
    "slideshow": {
     "slide_type": "-"
    }
   },
   "source": [
    "## `cd`\n",
    "   -   Move to your home directory."
   ]
  },
  {
   "cell_type": "markdown",
   "metadata": {
    "ein.tags": "worksheet-0",
    "slideshow": {
     "slide_type": "-"
    }
   },
   "source": [
    "## `mkdir`\n",
    "   -   Create a directory `myname` in your home.\n",
    "   -   Move to `myname`.\n",
    "   -   In `myname`, create the following directory structure. Check\n",
    "       with `tree`.\n",
    "       ``` {.example}\n",
    "      +-- junk\n",
    "      +-- recipes\n",
    "          +-- cookie\n",
    "          |   +-- choc.chip\n",
    "          +-- pie\n",
    "              +-- apple\n",
    "              +-- crust\n",
    "      ```"
   ]
  },
  {
   "cell_type": "markdown",
   "metadata": {
    "ein.tags": "worksheet-0",
    "slideshow": {
     "slide_type": "-"
    }
   },
   "source": [
    "-   Move to `crust`."
   ]
  },
  {
   "cell_type": "markdown",
   "metadata": {
    "ein.tags": "worksheet-0",
    "slideshow": {
     "slide_type": "-"
    }
   },
   "source": [
    "-   Move to `choc.chip`."
   ]
  },
  {
   "cell_type": "markdown",
   "metadata": {
    "ein.tags": "worksheet-0",
    "slideshow": {
     "slide_type": "-"
    }
   },
   "source": [
    "-   Move to `myhome`."
   ]
  },
  {
   "cell_type": "markdown",
   "metadata": {
    "ein.tags": "worksheet-0",
    "slideshow": {
     "slide_type": "-"
    }
   },
   "source": [
    "## `rmdir`\n",
    "   -   Create a file `dish1` in `apple`."
   ]
  },
  {
   "cell_type": "markdown",
   "metadata": {
    "ein.tags": "worksheet-0",
    "slideshow": {
     "slide_type": "-"
    }
   },
   "source": [
    "-   Remove directory `apple`."
   ]
  },
  {
   "cell_type": "markdown",
   "metadata": {
    "ein.tags": "worksheet-0",
    "slideshow": {
     "slide_type": "-"
    }
   },
   "source": [
    "-   Remove the file `dish1` in `apple`."
   ]
  },
  {
   "cell_type": "markdown",
   "metadata": {
    "ein.tags": "worksheet-0",
    "slideshow": {
     "slide_type": "-"
    }
   },
   "source": [
    "-   Now remove directory `apple`."
   ]
  },
  {
   "cell_type": "markdown",
   "metadata": {
    "ein.tags": "worksheet-0",
    "slideshow": {
     "slide_type": "-"
    }
   },
   "source": [
    "## `cp`\n",
    "-   Create a file `dish1` in `crust`."
   ]
  },
  {
   "cell_type": "markdown",
   "metadata": {
    "ein.tags": "worksheet-0",
    "slideshow": {
     "slide_type": "-"
    }
   },
   "source": [
    "-   Copy `dish1` to `dish2`."
   ]
  },
  {
   "cell_type": "markdown",
   "metadata": {
    "ein.tags": "worksheet-0",
    "slideshow": {
     "slide_type": "-"
    }
   },
   "source": [
    "-   List the contents of `crust`."
   ]
  },
  {
   "cell_type": "markdown",
   "metadata": {
    "ein.tags": "worksheet-0",
    "slideshow": {
     "slide_type": "-"
    }
   },
   "source": [
    "-   Copy the contents in `crust` to `apple`."
   ]
  },
  {
   "cell_type": "markdown",
   "metadata": {
    "ein.tags": "worksheet-0",
    "slideshow": {
     "slide_type": "-"
    }
   },
   "source": [
    "## `mv`\n",
    "-   Rename `dish1` to `cookie1`, and `dish2` to `cookie2`.\n",
    "-   Move both `cookie1` and `cookie2` to the directory `cookie`\n",
    "-   Move `recipe` directory to `junk` directory."
   ]
  },
  {
   "cell_type": "markdown",
   "metadata": {
    "ein.tags": "worksheet-0",
    "slideshow": {
     "slide_type": "-"
    }
   },
   "source": [
    "## `rm`\n",
    "-   Remove `dish1` in `apple`.\n",
    "-   Remove `cookie1` and `cookie2` in `cookie`.\n",
    "-   Remove `recipe` direcory in `junk`."
   ]
  },
  {
   "cell_type": "markdown",
   "metadata": {
    "ein.tags": "worksheet-0",
    "slideshow": {
     "slide_type": "-"
    }
   },
   "source": [
    "## `ln`\n",
    "\n"
   ]
  }
 ],
 "metadata": {
  "kernelspec": {
   "display_name": "Bash",
   "name": "bash"
  },
  "language_info": {
   "codemirror_mode": "shell",
   "file_extension": ".sh",
   "mimetype": "text/x-sh",
   "name": "bash"
  },
  "name": "assignment-01-introduction.ipynb"
 },
 "nbformat": 4,
 "nbformat_minor": 2
}
