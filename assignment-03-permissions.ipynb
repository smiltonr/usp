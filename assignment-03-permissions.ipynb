{
 "cells": [
  {
   "cell_type": "code",
   "execution_count": null,
   "metadata": {
    "autoscroll": false,
    "collapsed": false,
    "ein.hycell": false,
    "ein.tags": "worksheet-0",
    "slideshow": {
     "slide_type": "-"
    }
   },
   "outputs": [],
   "source": [
    "# Exercise 1\n",
    "1.  Launch a terminal.\n",
    "2.  Check which group or groups you belong to.\n",
    "3.  Use the `umask` command to set the default permission to `700`. What\n",
    "    is the default permission for files after this command?\n",
    "4.  Create a directory named `chapter4` under your home directory.\n",
    "5.  Check the default permission of this directory. Is it `700`?\n",
    "6.  Create a directory under the `chapter4` directory (without moving\n",
    "    from your home directory) and name it `session1`.\n",
    "7.  Check the permission of this directory. Is it `700`?\n",
    "8.  Move to the `session1` directory.\n",
    "9.  Create a file named `hw41` under this directory. Save this file.\n",
    "10. Check the permission of this file. Is it `700` or `600`? Why?\n",
    "    Explain the difference between the permissions for files\n",
    "    and directories.\n",
    "11. Do users in your group have any access to this file? Do other users\n",
    "    (outside of your group) have any access to this file?\n",
    "12. Change the permissions to allow users in your group only to copy\n",
    "    this file to their own directories. Is there a need to change the\n",
    "    permission of any directories? If yes, make necessary changes.\n",
    "13. Let a user in your group copy this file into her home directory. Was\n",
    "    the copy successful? If not, find the reason and take the\n",
    "    appropriate action(s) to correct it. Then try again with the other\n",
    "    user in your group.\n",
    "14. Quit the terminal.\n",
    "\n"
   ]
  },
  {
   "cell_type": "code",
   "execution_count": null,
   "metadata": {
    "autoscroll": false,
    "collapsed": false,
    "ein.hycell": false,
    "ein.tags": "worksheet-0",
    "slideshow": {
     "slide_type": "-"
    }
   },
   "outputs": [],
   "source": [
    "# Exercise 2\n",
    "\n",
    "1.  Launch a terminal.\n",
    "2.  Check which group or groups you belong to.\n",
    "3.  Check your default mask.\n",
    "4.  Create a d1rectory called `garbage` under your home directory.\n",
    "5.  Check the permission of this directory. Make a note of it.\n",
    "6.  Change your default mask so that the default permission is `664`.\n",
    "    What is the default permission for directories after you make this\n",
    "    change?\n",
    "7.  Check the permission for the `garbage` directory. Has it been\n",
    "    changed after setting the default mask? Why or why not?\n",
    "8.  Delete this directory.\n",
    "9.  Create a directory called `session2` under the `chapter4` directory.\n",
    "10. Check the permission of this directory and make a note of it.\n",
    "11. Remove the `x` permission for the user from this directory.\n",
    "12. Move to the `session2` directory. You should have a problem. Do you\n",
    "    know what the problem is? Fix the problem.\n",
    "13. Create a file named `hw42` under this directory. Save this file.\n",
    "14. Check the permissions of this file. Can users in your group copy\n",
    "    this file? Can they change this file? Can users outside your group\n",
    "    copy this file? Can they change this file? Is this file executable?\n",
    "15. Change the permissions of this file so that every user can read,\n",
    "    modify, but not execute this file.\n",
    "16. Quit the terminal.\n",
    "\n"
   ]
  }
 ],
 "metadata": {
  "kernelspec": {
   "display_name": "Bash",
   "name": "bash"
  },
  "name": "Untitled1.ipynb"
 },
 "nbformat": 4,
 "nbformat_minor": 2
}
